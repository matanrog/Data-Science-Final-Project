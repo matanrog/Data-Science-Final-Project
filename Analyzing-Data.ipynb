{
 "cells": [
  {
   "cell_type": "code",
   "execution_count": 60,
   "id": "93144b59",
   "metadata": {},
   "outputs": [],
   "source": [
    "%matplotlib inline\n",
    "import pandas as pd\n",
    "import string\n",
    "import re\n",
    "import os\n",
    "import numpy as np\n",
    "import matplotlib.pyplot as plt\n",
    "import pickle\n",
    "import joblib\n",
    "\n",
    "from scipy.spatial.distance import cdist \n",
    "\n",
    "from collections import Counter\n",
    "\n",
    "from wordcloud import WordCloud\n",
    "\n",
    "import nltk as nltk\n",
    "from nltk.corpus import stopwords \n",
    "from nltk.stem.porter import *\n",
    "from nltk.stem import PorterStemmer, WordNetLemmatizer\n",
    "from nltk import pos_tag, ne_chunk\n",
    "from nltk.tokenize import word_tokenize, sent_tokenize, RegexpTokenizer\n",
    "\n",
    "from sklearn.decomposition import PCA\n",
    "from sklearn.preprocessing import StandardScaler\n",
    "from sklearn.cluster import KMeans\n",
    "from sklearn import metrics \n",
    "from sklearn.feature_extraction.text import TfidfVectorizer,CountVectorizer\n",
    "\n",
    "\n",
    "import gensim\n",
    "from gensim.test.utils import common_texts\n",
    "from gensim.models.doc2vec import Doc2Vec, TaggedDocument\n",
    "from gensim import corpora, models\n",
    "\n",
    "import sys\n",
    "#from stop_words import get_stop_words\n",
    "\n",
    "import csv\n",
    "import _pickle as cPickle\n",
    "from string import digits\n",
    "import bz2\n",
    "import pyLDAvis\n",
    "import pyLDAvis.gensim_models"
   ]
  },
  {
   "cell_type": "code",
   "execution_count": 72,
   "id": "e7afccaa",
   "metadata": {},
   "outputs": [
    {
     "name": "stderr",
     "output_type": "stream",
     "text": [
      "C:\\Users\\ronhu\\AppData\\Local\\Temp\\ipykernel_36816\\742834939.py:95: SettingWithCopyWarning: \n",
      "A value is trying to be set on a copy of a slice from a DataFrame\n",
      "\n",
      "See the caveats in the documentation: https://pandas.pydata.org/pandas-docs/stable/user_guide/indexing.html#returning-a-view-versus-a-copy\n",
      "  df_stem['text'][i] = stemming(temp)\n",
      "C:\\Users\\ronhu\\AppData\\Local\\Temp\\ipykernel_36816\\742834939.py:96: SettingWithCopyWarning: \n",
      "A value is trying to be set on a copy of a slice from a DataFrame\n",
      "\n",
      "See the caveats in the documentation: https://pandas.pydata.org/pandas-docs/stable/user_guide/indexing.html#returning-a-view-versus-a-copy\n",
      "  df_lemmatize['text'][i] = lemmataizeSentance(temp)\n",
      "C:\\Users\\ronhu\\AppData\\Local\\Temp\\ipykernel_36816\\742834939.py:48: SettingWithCopyWarning: \n",
      "A value is trying to be set on a copy of a slice from a DataFrame\n",
      "\n",
      "See the caveats in the documentation: https://pandas.pydata.org/pandas-docs/stable/user_guide/indexing.html#returning-a-view-versus-a-copy\n",
      "  dfm['text'][index] = float('NaN')\n"
     ]
    }
   ],
   "source": [
    "def load_dataframe(filename):\n",
    "    return pd.read_csv(filename)\n",
    "\n",
    "def tokenizeTweets(sentance):\n",
    "    words = word_tokenize(sentance)\n",
    "    noise_free_words = [word for word in words if word not in Stop_words]\n",
    "    return noise_free_words\n",
    "\n",
    "\n",
    "def cleanPunctuation(sentance):\n",
    "    new_sentance = sentance.translate(str.maketrans('', '', string.punctuation))\n",
    "    new_sentance = new_sentance.replace(\"“\",\"\").replace(\"’\",\"\").replace(\"”\",\"\")\n",
    "    return new_sentance\n",
    "\n",
    "def cleanLinks(sentance):\n",
    "    sentance = re.sub(r'(https|http)?:\\/\\/(\\w|\\.|\\/|\\?|\\=|\\&|\\%)*\\b', '', sentance, flags=re.MULTILINE)\n",
    "    return(sentance)\n",
    "\n",
    "def stemming(wordsList):\n",
    "    #getting the root of every word for all tweets\n",
    "    rootList = []\n",
    "    ps = PorterStemmer()\n",
    "    for w in wordsList:\n",
    "        #remove the 'Retweet' tag\n",
    "        if (w != 'RT'):\n",
    "            rootList.append(ps.stem(w))\n",
    "    return rootList\n",
    "\n",
    "\n",
    "def lemmataizeSentance(wordsList):\n",
    "    #getting the root of every word for all tweets\n",
    "    rootList = []\n",
    "    wl = WordNetLemmatizer()\n",
    "    for w in wordsList:\n",
    "        #remove the 'Retweet' tag\n",
    "        if (w != 'RT'):\n",
    "            rootList.append(wl.lemmatize(w))\n",
    "    return rootList\n",
    "\n",
    "\n",
    "def chunking(wordsList):\n",
    "    PartsOfSpeech = pos_tag(wordsList)\n",
    "    Named_entities = ne_chunk(PartsOfSpeech)\n",
    "    return Named_entities\n",
    "\n",
    "def replace_empty_to_nan(sentance, dfm , index):\n",
    "    if len(sentance) == 0 :\n",
    "        dfm['text'][index] = float('NaN')        \n",
    "    return dfm    \n",
    "\n",
    "\n",
    "def remove_nan_rows(df):\n",
    "    nan_value = float(\"NaN\")\n",
    "    df.replace(\"\", nan_value, inplace=True)\n",
    "    df.dropna(subset = [\"text\"], inplace=True)\n",
    "    return df\n",
    "\n",
    "def remove_emoji(string):\n",
    "    emoji_pattern = re.compile(\"[\"\n",
    "                               u\"\\U0001F600-\\U0001F64F\"  # emoticons\n",
    "                               u\"\\U0001F300-\\U0001F5FF\"  # symbols & pictographs\n",
    "                               u\"\\U0001F680-\\U0001F6FF\"  # transport & map symbols\n",
    "                               u\"\\U0001F1E0-\\U0001F1FF\"  # flags (iOS)\n",
    "                               u\"\\U00002500-\\U00002BEF\"  # chinese char\n",
    "                               u\"\\U00002702-\\U000027B0\"\n",
    "                               u\"\\U00002702-\\U000027B0\"\n",
    "                               u\"\\U000024C2-\\U0001F251\"\n",
    "                               u\"\\U0001f926-\\U0001f937\"\n",
    "                               u\"\\U00010000-\\U0010ffff\"\n",
    "                               u\"\\u2640-\\u2642\"\n",
    "                               u\"\\u2600-\\u2B55\"\n",
    "                               u\"\\u200d\"\n",
    "                               u\"\\u23cf\"\n",
    "                               u\"\\u23e9\"\n",
    "                               u\"\\u231a\"\n",
    "                               u\"\\ufe0f\"  # dingbats\n",
    "                               u\"\\u3030\"\n",
    "                               \"]+\", flags=re.UNICODE)\n",
    "    return emoji_pattern.sub(r'', string)\n",
    "\n",
    "\n",
    "def remove_unnecessary_data(dataframe):\n",
    "    dfm = df_lemmatize = df_stem = df_chunk = dataframe.copy()\n",
    "    \n",
    "    #remove duplicate rows\n",
    "    dfm = dfm.drop_duplicates(keep='first').copy() \n",
    "    \n",
    "    #removing links,emoji's, punc and tokenzing the words and making 3 dfs in 3 methods\n",
    "    for i in range(0, len(df.index)):\n",
    "        temp = df['text'][i].lower()\n",
    "        temp = remove_emoji(temp)\n",
    "        temp = cleanLinks(temp)\n",
    "        temp = cleanPunctuation(temp)\n",
    "        temp = tokenizeTweets(temp)\n",
    "        df_stem['text'][i] = stemming(temp)\n",
    "        df_lemmatize['text'][i] = lemmataizeSentance(temp)\n",
    "       \n",
    "        df_stem = replace_empty_to_nan(temp ,df_stem, i)\n",
    "        df_lemmatize = replace_empty_to_nan(temp ,df_lemmatize, i)\n",
    "    \n",
    "    df_stem =  remove_nan_rows(df_stem)    \n",
    "    df_lemmatize =  remove_nan_rows(df_lemmatize)    \n",
    "    \n",
    "             \n",
    "    return df_stem , df_lemmatize\n",
    "    \n",
    "    \n",
    "#run phase 3 - Data Handling phase \n",
    "\n",
    "Stop_words = set (stopwords.words('English'))\n",
    "df = load_dataframe('trumpTweets.csv')\n",
    "results = remove_unnecessary_data(df)\n",
    "df_lemmatize = results[1]\n",
    "df_stem = results[0]\n",
    "df_lemmatize.to_csv(\"df_lemmatize_token.csv\")\n",
    "df_stem.to_csv(\"df_stem_token.csv\")"
   ]
  },
  {
   "cell_type": "markdown",
   "id": "c0f74992",
   "metadata": {},
   "source": [
    "## No need to run phase 3, its saved in the csv's files\n",
    "\n",
    "df_lemmatize dataframe saved in \"df_lemmatize_token.csv\".\n",
    "\n",
    "df_stem dataframe saved in \"df_stem_token.csv\"."
   ]
  },
  {
   "cell_type": "code",
   "execution_count": 40,
   "id": "48e763aa",
   "metadata": {},
   "outputs": [],
   "source": [
    "# df_lemmatize = pd.read_csv(\"df_lemmatize_token.csv\")\n",
    "# df_stem = pd.read_csv(\"df_stem_token.csv\")"
   ]
  },
  {
   "cell_type": "code",
   "execution_count": 73,
   "id": "40d5b398",
   "metadata": {},
   "outputs": [],
   "source": [
    "#Training the model & Generating the clusters - 5 Clusters\n",
    "def create_clusters(df,number_of_clusters, colors ,title):\n",
    "    LabeledSentence1 = gensim.models.doc2vec.TaggedDocument\n",
    "    all_content_train = []\n",
    "    j=0\n",
    "    for em in df['text'].values:\n",
    "        all_content_train.append(LabeledSentence1(em,[j]))\n",
    "        j+=1\n",
    "    \n",
    "    print('Number of texts processed:' , j)    \n",
    "    print('this graph is from: ' , title)    \n",
    "\n",
    "\n",
    "    d2v_model = Doc2Vec(all_content_train,\n",
    "                        window = 10,\n",
    "                        min_count = 500, \n",
    "                        workers=7,\n",
    "                        dm = 1,alpha=0.025,\n",
    "                        min_alpha=0.001)\n",
    "\n",
    "    d2v_model.train(all_content_train,\n",
    "                    total_examples=d2v_model.corpus_count,\n",
    "                    epochs=10,\n",
    "                    start_alpha=0.002,\n",
    "                    end_alpha=-0.016)\n",
    "\n",
    "    #create Clusters\n",
    "    kmeans_model = KMeans(n_clusters = number_of_clusters,\n",
    "                          init='k-means++', \n",
    "                          max_iter=100) \n",
    "    \n",
    "    \n",
    "    X = kmeans_model.fit(d2v_model.dv.vectors)\n",
    "    labels=kmeans_model.labels_.tolist()\n",
    "    \n",
    "    l = kmeans_model.fit_predict(d2v_model.dv.vectors)\n",
    "    \n",
    "    #Pca - minimize the number of dimensions for visualization\n",
    "    pca = PCA(n_components=2).fit(d2v_model.dv.vectors)\n",
    "    datapoint = pca.transform(d2v_model.dv.vectors)\n",
    "    plt.figure\n",
    "    \n",
    "    #print clusters\n",
    "    color = [colors[i] for i in labels]\n",
    "    plt.scatter(datapoint[:, 0], datapoint[:, 1], c=color)\n",
    "    centroids = kmeans_model.cluster_centers_\n",
    "    centroidpoint = pca.transform(centroids)\n",
    "    plt.scatter(centroidpoint[:, 0], centroidpoint[:, 1], marker='^', s=150, c='#000000')\n",
    "    plt.show()\n",
    "    return kmeans_model"
   ]
  },
  {
   "cell_type": "code",
   "execution_count": 74,
   "id": "8622b942",
   "metadata": {},
   "outputs": [],
   "source": [
    "#Creating the colored clusters\n",
    "four_colors = ['#FFFF00', '#008000', '#0000FF', '#800080']\n",
    "five_colors = ['#FFFF00', '#008000', '#0000FF', '#800080','#00FFFF']\n",
    "six_colors = ['#FFFF00', '#008000', '#0000FF', '#800080','#00FFFF','#FF7F50']\n",
    "ten_colors = ['#FFFF00', '#008000', '#0000FF', '#800080','#00FFFF','#FF7F50','#FF69B4','#4B0082','#ADD8E6','#FF4500']"
   ]
  },
  {
   "cell_type": "code",
   "execution_count": 75,
   "id": "20660bae",
   "metadata": {},
   "outputs": [
    {
     "name": "stdout",
     "output_type": "stream",
     "text": [
      "Number of texts processed: 55253\n",
      "this graph is from:  df_stem\n"
     ]
    },
    {
     "data": {
      "image/png": "[encoded data removed]",
      "text/plain": [
       "<Figure size 432x288 with 1 Axes>"
      ]
     },
     "metadata": {
      "needs_background": "light"
     },
     "output_type": "display_data"
    },
    {
     "name": "stdout",
     "output_type": "stream",
     "text": [
      "Number of texts processed: 55253\n",
      "this graph is from:  df_lemmatize\n"
     ]
    },
    {
     "data": {
      "image/png": "[encoded data removed]",
      "text/plain": [
       "<Figure size 432x288 with 1 Axes>"
      ]
     },
     "metadata": {
      "needs_background": "light"
     },
     "output_type": "display_data"
    }
   ],
   "source": [
    "#Created a cluster of doc2vec & kmeans - 5 clusters\n",
    "df_stem_five_cluster = create_clusters(df_stem,5,five_colors, 'df_stem')\n",
    "df_lem_five_cluster = create_clusters(df_lemmatize,5,five_colors, 'df_lemmatize')"
   ]
  },
  {
   "cell_type": "code",
   "execution_count": 76,
   "id": "796ff136",
   "metadata": {},
   "outputs": [
    {
     "ename": "TypeError",
     "evalue": "create_clusters() missing 1 required positional argument: 'title'",
     "output_type": "error",
     "traceback": [
      "\u001b[1;31m---------------------------------------------------------------------------\u001b[0m",
      "\u001b[1;31mTypeError\u001b[0m                                 Traceback (most recent call last)",
      "Input \u001b[1;32mIn [76]\u001b[0m, in \u001b[0;36m<cell line: 2>\u001b[1;34m()\u001b[0m\n\u001b[0;32m      1\u001b[0m \u001b[38;5;66;03m#Created a cluster of doc2vec & kmeans - 10 clusters\u001b[39;00m\n\u001b[1;32m----> 2\u001b[0m df_stem_ten_cluster \u001b[38;5;241m=\u001b[39m \u001b[43mcreate_clusters\u001b[49m\u001b[43m(\u001b[49m\u001b[43mdf_stem\u001b[49m\u001b[43m,\u001b[49m\u001b[38;5;241;43m10\u001b[39;49m\u001b[43m,\u001b[49m\u001b[43mten_colors\u001b[49m\u001b[43m)\u001b[49m\n\u001b[0;32m      3\u001b[0m df_lem_ten_cluster \u001b[38;5;241m=\u001b[39m create_clusters(df_lemmatize,\u001b[38;5;241m10\u001b[39m,ten_colors)\n",
      "\u001b[1;31mTypeError\u001b[0m: create_clusters() missing 1 required positional argument: 'title'"
     ]
    }
   ],
   "source": [
    "#Created a cluster of doc2vec & kmeans - 10 clusters\n",
    "df_stem_ten_cluster = create_clusters(df_stem,10,ten_colors)\n",
    "df_lem_ten_cluster = create_clusters(df_lemmatize,10,ten_colors)"
   ]
  },
  {
   "cell_type": "code",
   "execution_count": null,
   "id": "c364d8c5",
   "metadata": {},
   "outputs": [],
   "source": [
    "#Creating LDA clusters of the tweets - 7 topics\n",
    "let_dictionary = corpora.Dictionary(df_lemmatize['text'])\n",
    "let_corpus = [dictionary.doc2bow(text) for text in df_lemmatize['text']]\n",
    "let_lda = gensim.models.ldamulticore.LdaMulticore(corpus, id2word=dictionary, num_topics=7, chunksize=1000, passes=20, workers=30)"
   ]
  },
  {
   "cell_type": "code",
   "execution_count": null,
   "id": "948a0c85",
   "metadata": {},
   "outputs": [],
   "source": [
    "#Printing the clusters with lda_vis\n",
    "let_lda_vis = pyLDAvis.gensim_models.prepare(let_lda, let_corpus, let_dictionary)\n",
    "pyLDAvis.display(let_lda_vis)\n"
   ]
  },
  {
   "cell_type": "code",
   "execution_count": null,
   "id": "a5305a10",
   "metadata": {},
   "outputs": [],
   "source": [
    "#Creating LDA clusters of the tweets - 7 topics\n",
    "st_dictionary = corpora.Dictionary(df_stem['text'])\n",
    "st_corpus = [dictionary.doc2bow(text) for text in df_stem['text']]\n",
    "st_lda = gensim.models.ldamulticore.LdaMulticore(corpus, id2word=dictionary, num_topics=7, chunksize=1000, passes=20, workers=30)"
   ]
  },
  {
   "cell_type": "code",
   "execution_count": null,
   "id": "bbdc08d9",
   "metadata": {},
   "outputs": [],
   "source": [
    "#Printing the clusters with lda_vis\n",
    "st_lda_vis = pyLDAvis.gensim_models.prepare(st_lda, st_corpus, st_dictionary)\n",
    "pyLDAvis.display(st_lda_vis)\n"
   ]
  },
  {
   "cell_type": "code",
   "execution_count": null,
   "id": "9eb624f3",
   "metadata": {},
   "outputs": [],
   "source": []
  }
 ],
 "metadata": {
  "kernelspec": {
   "display_name": "Python 3 (ipykernel)",
   "language": "python",
   "name": "python3"
  },
  "language_info": {
   "codemirror_mode": {
    "name": "ipython",
    "version": 3
   },
   "file_extension": ".py",
   "mimetype": "text/x-python",
   "name": "python",
   "nbconvert_exporter": "python",
   "pygments_lexer": "ipython3",
   "version": "3.9.12"
  }
 },
 "nbformat": 4,
 "nbformat_minor": 5
}
